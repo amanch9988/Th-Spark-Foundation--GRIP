{
  "nbformat": 4,
  "nbformat_minor": 0,
  "metadata": {
    "colab": {
      "name": "Sparks_GRIP_task1.ipynb",
      "provenance": [],
      "authorship_tag": "ABX9TyPYyX6NKQmhBr+t4bSHpHaq",
      "include_colab_link": true
    },
    "kernelspec": {
      "name": "python3",
      "display_name": "Python 3"
    },
    "language_info": {
      "name": "python"
    }
  },
  "cells": [
    {
      "cell_type": "markdown",
      "metadata": {
        "id": "view-in-github",
        "colab_type": "text"
      },
      "source": [
        "<a href=\"https://colab.research.google.com/github/amanch9988/Th-Spark-Foundation--GRIP/blob/main/Sparks_GRIP_task1.ipynb\" target=\"_parent\"><img src=\"https://colab.research.google.com/assets/colab-badge.svg\" alt=\"Open In Colab\"/></a>"
      ]
    },
    {
      "cell_type": "markdown",
      "metadata": {
        "id": "m2g3zkJZcDbZ"
      },
      "source": [
        "## **Name : Aman Choudhary**"
      ]
    },
    {
      "cell_type": "markdown",
      "metadata": {
        "id": "YamuJqM5btEE"
      },
      "source": [
        "# **GRIP @The Sparks Foundation**\n",
        "Data Science and Business Analytics Intern\n",
        "### **Task 1: Prediction using supervised ML**\n",
        "Predict the percentage of an student based on the no. of study hours using Supervised ML.\n"
      ]
    },
    {
      "cell_type": "code",
      "metadata": {
        "id": "55IGHOuIbeHp"
      },
      "source": [
        "#import requried libraries\n",
        "\n",
        "import pandas as pd\n",
        "import numpy as np\n",
        "import matplotlib.pyplot as plt\n",
        "%matplotlib inline\n",
        "\n"
      ],
      "execution_count": 1,
      "outputs": []
    },
    {
      "cell_type": "code",
      "metadata": {
        "colab": {
          "base_uri": "https://localhost:8080/"
        },
        "id": "cbAITNXsdfQm",
        "outputId": "d0b94024-6b28-4149-f2f5-953ceaf06dcd"
      },
      "source": [
        "#importing data from url given\n",
        "\n",
        "url = \"http://bit.ly/w-data\"\n",
        "data = pd.read_csv(url)\n",
        "print(\"Data from url imported successfully\")"
      ],
      "execution_count": 2,
      "outputs": [
        {
          "output_type": "stream",
          "text": [
            "Data from url imported successfully\n"
          ],
          "name": "stdout"
        }
      ]
    },
    {
      "cell_type": "code",
      "metadata": {
        "colab": {
          "base_uri": "https://localhost:8080/",
          "height": 204
        },
        "id": "Uqyb6j2Kd6Gw",
        "outputId": "b3ab4706-6f85-4a44-bf01-932a4144dc9c"
      },
      "source": [
        "#displaying the data\n",
        "\n",
        "data.head()"
      ],
      "execution_count": 3,
      "outputs": [
        {
          "output_type": "execute_result",
          "data": {
            "text/html": [
              "<div>\n",
              "<style scoped>\n",
              "    .dataframe tbody tr th:only-of-type {\n",
              "        vertical-align: middle;\n",
              "    }\n",
              "\n",
              "    .dataframe tbody tr th {\n",
              "        vertical-align: top;\n",
              "    }\n",
              "\n",
              "    .dataframe thead th {\n",
              "        text-align: right;\n",
              "    }\n",
              "</style>\n",
              "<table border=\"1\" class=\"dataframe\">\n",
              "  <thead>\n",
              "    <tr style=\"text-align: right;\">\n",
              "      <th></th>\n",
              "      <th>Hours</th>\n",
              "      <th>Scores</th>\n",
              "    </tr>\n",
              "  </thead>\n",
              "  <tbody>\n",
              "    <tr>\n",
              "      <th>0</th>\n",
              "      <td>2.5</td>\n",
              "      <td>21</td>\n",
              "    </tr>\n",
              "    <tr>\n",
              "      <th>1</th>\n",
              "      <td>5.1</td>\n",
              "      <td>47</td>\n",
              "    </tr>\n",
              "    <tr>\n",
              "      <th>2</th>\n",
              "      <td>3.2</td>\n",
              "      <td>27</td>\n",
              "    </tr>\n",
              "    <tr>\n",
              "      <th>3</th>\n",
              "      <td>8.5</td>\n",
              "      <td>75</td>\n",
              "    </tr>\n",
              "    <tr>\n",
              "      <th>4</th>\n",
              "      <td>3.5</td>\n",
              "      <td>30</td>\n",
              "    </tr>\n",
              "  </tbody>\n",
              "</table>\n",
              "</div>"
            ],
            "text/plain": [
              "   Hours  Scores\n",
              "0    2.5      21\n",
              "1    5.1      47\n",
              "2    3.2      27\n",
              "3    8.5      75\n",
              "4    3.5      30"
            ]
          },
          "metadata": {
            "tags": []
          },
          "execution_count": 3
        }
      ]
    },
    {
      "cell_type": "code",
      "metadata": {
        "colab": {
          "base_uri": "https://localhost:8080/"
        },
        "id": "Jqzu2eG5eNnc",
        "outputId": "e46e562e-4939-497f-ea3a-4dd2c5cb9da1"
      },
      "source": [
        "#checking the total data\n",
        "\n",
        "data.shape"
      ],
      "execution_count": 4,
      "outputs": [
        {
          "output_type": "execute_result",
          "data": {
            "text/plain": [
              "(25, 2)"
            ]
          },
          "metadata": {
            "tags": []
          },
          "execution_count": 4
        }
      ]
    },
    {
      "cell_type": "code",
      "metadata": {
        "colab": {
          "base_uri": "https://localhost:8080/"
        },
        "id": "OJWY-IjGeYcT",
        "outputId": "799ce1fe-a26e-42a8-dbb8-28f46f6358c2"
      },
      "source": [
        "#checking imformation of given data\n",
        "\n",
        "\n",
        "data.info()\n"
      ],
      "execution_count": 5,
      "outputs": [
        {
          "output_type": "stream",
          "text": [
            "<class 'pandas.core.frame.DataFrame'>\n",
            "RangeIndex: 25 entries, 0 to 24\n",
            "Data columns (total 2 columns):\n",
            " #   Column  Non-Null Count  Dtype  \n",
            "---  ------  --------------  -----  \n",
            " 0   Hours   25 non-null     float64\n",
            " 1   Scores  25 non-null     int64  \n",
            "dtypes: float64(1), int64(1)\n",
            "memory usage: 528.0 bytes\n"
          ],
          "name": "stdout"
        }
      ]
    },
    {
      "cell_type": "code",
      "metadata": {
        "colab": {
          "base_uri": "https://localhost:8080/"
        },
        "id": "AxIiLK5AezJe",
        "outputId": "3836a054-b4a7-44b6-b25b-503dcb564eb0"
      },
      "source": [
        "#checking for duplicate\n",
        "\n",
        "data.duplicated().sum()"
      ],
      "execution_count": 10,
      "outputs": [
        {
          "output_type": "execute_result",
          "data": {
            "text/plain": [
              "0"
            ]
          },
          "metadata": {
            "tags": []
          },
          "execution_count": 10
        }
      ]
    },
    {
      "cell_type": "markdown",
      "metadata": {
        "id": "T2GvU-sNf_3U"
      },
      "source": [
        "Since the result is 0 means there is no duplicacy"
      ]
    },
    {
      "cell_type": "code",
      "metadata": {
        "colab": {
          "base_uri": "https://localhost:8080/"
        },
        "id": "TcMwlCVrfigC",
        "outputId": "2e706c75-a1e8-42de-801e-f43f3a39548c"
      },
      "source": [
        "#checking for null data\n",
        "\n",
        "data.isnull().sum()"
      ],
      "execution_count": 11,
      "outputs": [
        {
          "output_type": "execute_result",
          "data": {
            "text/plain": [
              "Hours     0\n",
              "Scores    0\n",
              "dtype: int64"
            ]
          },
          "metadata": {
            "tags": []
          },
          "execution_count": 11
        }
      ]
    },
    {
      "cell_type": "markdown",
      "metadata": {
        "id": "zW2RnSprgQUF"
      },
      "source": [
        "Hence there is no null value."
      ]
    },
    {
      "cell_type": "markdown",
      "metadata": {
        "id": "xzaKVSLBgbbx"
      },
      "source": [
        "# **Data Visualization**\n"
      ]
    },
    {
      "cell_type": "code",
      "metadata": {
        "colab": {
          "base_uri": "https://localhost:8080/",
          "height": 295
        },
        "id": "FrXDtq3LgWOi",
        "outputId": "834b5e4f-634b-4b67-d0b6-012ae0022c9c"
      },
      "source": [
        "#ploting the data to check relation between them and distribution of data\n",
        "\n",
        "data.plot(x = \"Hours\" , y = \"Scores\" , style = \"*\",color=\"red\")\n",
        "plt.title(\"Hours VS Percentage\")\n",
        "plt.xlabel(\"Hours Studied\")\n",
        "plt.ylabel(\"Percentage Score\")\n",
        "plt.show()\n"
      ],
      "execution_count": 21,
      "outputs": [
        {
          "output_type": "display_data",
          "data": {
            "image/png": "[encoded data removed]",
            "text/plain": [
              "<Figure size 432x288 with 1 Axes>"
            ]
          },
          "metadata": {
            "tags": [],
            "needs_background": "light"
          }
        }
      ]
    },
    {
      "cell_type": "markdown",
      "metadata": {
        "id": "0dWXH5vrhg2D"
      },
      "source": [
        "According to output,  There is a positive linear relation."
      ]
    },
    {
      "cell_type": "markdown",
      "metadata": {
        "id": "QXDd94C2iF4S"
      },
      "source": [
        "# **Splittig the data**"
      ]
    },
    {
      "cell_type": "code",
      "metadata": {
        "id": "KER8cZT1hpai"
      },
      "source": [
        "#splitting the data into attributes and labels\n",
        "\n",
        "X = data.drop([\"Scores\"] , axis = 1)\n",
        "Y = data[\"Scores\"]"
      ],
      "execution_count": 22,
      "outputs": []
    },
    {
      "cell_type": "code",
      "metadata": {
        "id": "444JhKnnj1sa"
      },
      "source": [
        "#splitting the data into training and testing\n",
        "\n",
        "from sklearn.model_selection import train_test_split   \n",
        "   \n",
        "X_train , X_test , Y_train , Y_test = train_test_split(X , Y , test_size = 0.2 , random_state = 0)"
      ],
      "execution_count": 23,
      "outputs": []
    },
    {
      "cell_type": "markdown",
      "metadata": {
        "id": "8GZI-qVbkgTZ"
      },
      "source": [
        "# **Trainig and Visualizing the model**"
      ]
    },
    {
      "cell_type": "code",
      "metadata": {
        "colab": {
          "base_uri": "https://localhost:8080/"
        },
        "id": "XKBlPyC3knzI",
        "outputId": "311a1f8d-72f3-400e-a68e-25f8842c1836"
      },
      "source": [
        "from sklearn.linear_model import LinearRegression         \n",
        "model = LinearRegression()\n",
        "model.fit(X_train , Y_train)\n",
        "print(\"Model Trained\")"
      ],
      "execution_count": 24,
      "outputs": [
        {
          "output_type": "stream",
          "text": [
            "Model Trained\n"
          ],
          "name": "stdout"
        }
      ]
    },
    {
      "cell_type": "code",
      "metadata": {
        "id": "Na-kOwl-laxQ"
      },
      "source": [
        "model = LinearRegression()\n",
        "model.fit(X_train , Y_train) \n",
        "\n",
        "line = model.coef_*X+model.intercept_\n"
      ],
      "execution_count": 25,
      "outputs": []
    },
    {
      "cell_type": "code",
      "metadata": {
        "colab": {
          "base_uri": "https://localhost:8080/",
          "height": 295
        },
        "id": "ALWquJV7mT0a",
        "outputId": "4fe4c204-8cfb-4b06-ac37-38eb72d60d88"
      },
      "source": [
        "#plotting the trained data\n",
        "\n",
        "plt.scatter(X,Y,color='orange')\n",
        "plt.plot(X,line,color='blue')\n",
        "plt.xlabel('Hours')\n",
        "plt.ylabel('Score')\n",
        "plt.title(\"Linear regression vs trained model\")\n",
        "plt.show()"
      ],
      "execution_count": 26,
      "outputs": [
        {
          "output_type": "display_data",
          "data": {
            "image/png": "[encoded data removed]",
            "text/plain": [
              "<Figure size 432x288 with 1 Axes>"
            ]
          },
          "metadata": {
            "tags": [],
            "needs_background": "light"
          }
        }
      ]
    },
    {
      "cell_type": "markdown",
      "metadata": {
        "id": "12yFHK55nI0O"
      },
      "source": [
        "# **Prediction**"
      ]
    },
    {
      "cell_type": "code",
      "metadata": {
        "colab": {
          "base_uri": "https://localhost:8080/"
        },
        "id": "plfl0pFLnO5E",
        "outputId": "415e4fde-1a76-4626-e8ed-9e90b7a0f040"
      },
      "source": [
        "print(X_test)\n",
        "Y_pred = model.predict(X_test)\n"
      ],
      "execution_count": 27,
      "outputs": [
        {
          "output_type": "stream",
          "text": [
            "    Hours\n",
            "5     1.5\n",
            "2     3.2\n",
            "19    7.4\n",
            "16    2.5\n",
            "11    5.9\n"
          ],
          "name": "stdout"
        }
      ]
    },
    {
      "cell_type": "code",
      "metadata": {
        "colab": {
          "base_uri": "https://localhost:8080/",
          "height": 204
        },
        "id": "2veCibpun-PH",
        "outputId": "c6ec6167-69ed-4f26-ba77-ee293fef1fd3"
      },
      "source": [
        "#comparing the actual value with predicted value\n",
        "\n",
        "df = pd.DataFrame({'Actual Score ':Y_test, 'Predicted Score ':Y_pred})\n",
        "df"
      ],
      "execution_count": 29,
      "outputs": [
        {
          "output_type": "execute_result",
          "data": {
            "text/html": [
              "<div>\n",
              "<style scoped>\n",
              "    .dataframe tbody tr th:only-of-type {\n",
              "        vertical-align: middle;\n",
              "    }\n",
              "\n",
              "    .dataframe tbody tr th {\n",
              "        vertical-align: top;\n",
              "    }\n",
              "\n",
              "    .dataframe thead th {\n",
              "        text-align: right;\n",
              "    }\n",
              "</style>\n",
              "<table border=\"1\" class=\"dataframe\">\n",
              "  <thead>\n",
              "    <tr style=\"text-align: right;\">\n",
              "      <th></th>\n",
              "      <th>Actual Score</th>\n",
              "      <th>Predicted Score</th>\n",
              "    </tr>\n",
              "  </thead>\n",
              "  <tbody>\n",
              "    <tr>\n",
              "      <th>5</th>\n",
              "      <td>20</td>\n",
              "      <td>16.884145</td>\n",
              "    </tr>\n",
              "    <tr>\n",
              "      <th>2</th>\n",
              "      <td>27</td>\n",
              "      <td>33.732261</td>\n",
              "    </tr>\n",
              "    <tr>\n",
              "      <th>19</th>\n",
              "      <td>69</td>\n",
              "      <td>75.357018</td>\n",
              "    </tr>\n",
              "    <tr>\n",
              "      <th>16</th>\n",
              "      <td>30</td>\n",
              "      <td>26.794801</td>\n",
              "    </tr>\n",
              "    <tr>\n",
              "      <th>11</th>\n",
              "      <td>62</td>\n",
              "      <td>60.491033</td>\n",
              "    </tr>\n",
              "  </tbody>\n",
              "</table>\n",
              "</div>"
            ],
            "text/plain": [
              "    Actual Score   Predicted Score \n",
              "5              20         16.884145\n",
              "2              27         33.732261\n",
              "19             69         75.357018\n",
              "16             30         26.794801\n",
              "11             62         60.491033"
            ]
          },
          "metadata": {
            "tags": []
          },
          "execution_count": 29
        }
      ]
    },
    {
      "cell_type": "code",
      "metadata": {
        "colab": {
          "base_uri": "https://localhost:8080/"
        },
        "id": "Pu3-QJ_co1cy",
        "outputId": "1f97680f-89d2-421e-85df-53e21006e77e"
      },
      "source": [
        "#predicting score for 9.25 hours of study\n",
        "\n",
        "hours = 9.25\n",
        "pred = model.predict([[9.25]])\n",
        "print(\"NO. of hours = {}\".format(hours))\n",
        "print(\"Predicted Score = {}\".format(pred[0]))"
      ],
      "execution_count": 36,
      "outputs": [
        {
          "output_type": "stream",
          "text": [
            "NO. of hours = 9.25\n",
            "Predicted Score = 93.69173248737539\n"
          ],
          "name": "stdout"
        }
      ]
    },
    {
      "cell_type": "markdown",
      "metadata": {
        "id": "wfg77E-fp7LS"
      },
      "source": [
        "# **Model Evaluation Metrics**\n"
      ]
    },
    {
      "cell_type": "code",
      "metadata": {
        "colab": {
          "base_uri": "https://localhost:8080/"
        },
        "id": "fasFNt-Dpv9o",
        "outputId": "1d676114-c603-49ec-8f72-11134bd54fd5"
      },
      "source": [
        "from sklearn.metrics import r2_score\n",
        "from sklearn.metrics import mean_squared_error\n",
        "from sklearn.metrics import mean_absolute_error\n",
        "\n",
        "#Checking the efficiency of model\n",
        "\n",
        "mean_squ_error = mean_squared_error(Y_test, Y_pred[:5])\n",
        "mean_abs_error = mean_absolute_error(Y_test, Y_pred[:5])\n",
        "r2_score = r2_score(Y_test,Y_pred[:5])\n",
        "\n",
        "#printing the values\n",
        "\n",
        "print(\"Mean absolute Error:\",mean_abs_error)  \n",
        "print(\"Mean Squred Error:\",mean_squ_error)    \n",
        "print(\"R2 Score:\",r2_score)                  #used for how close the data are to the fitted regression line"
      ],
      "execution_count": 39,
      "outputs": [
        {
          "output_type": "stream",
          "text": [
            "Mean absolute Error: 4.183859899002982\n",
            "Mean Squred Error: 21.598769307217456\n",
            "R2 Score: 0.9454906892105354\n"
          ],
          "name": "stdout"
        }
      ]
    }
  ]
}